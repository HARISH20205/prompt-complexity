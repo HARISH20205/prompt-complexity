{
  "nbformat": 4,
  "nbformat_minor": 0,
  "metadata": {
    "colab": {
      "provenance": []
    },
    "kernelspec": {
      "name": "python3",
      "display_name": "Python 3"
    },
    "language_info": {
      "name": "python"
    }
  },
  "cells": [
    {
      "cell_type": "markdown",
      "source": [
        "#Prompt Length"
      ],
      "metadata": {
        "id": "jm5bBj7PCKIY"
      }
    },
    {
      "cell_type": "code",
      "source": [
        "def classify_by_length(prompt):\n",
        "    length = len(prompt.split())\n",
        "    if length <= 5:\n",
        "        length_complexity = \"Low\"\n",
        "    elif 6 <= length <= 10:\n",
        "        length_complexity = \"Mid\"\n",
        "    else:\n",
        "        length_complexity = \"High\"\n",
        "    return length_complexity\n",
        "\n",
        "#prompt = \"what is AI explain in deep and what is AGI and how AI and AGI are different\"\n",
        "#prompt = \"what is AI and explain in detail\"\n",
        "prompt = \"what is AI\"\n",
        "\n",
        "classify_by_length(prompt)"
      ],
      "metadata": {
        "colab": {
          "base_uri": "https://localhost:8080/",
          "height": 36
        },
        "id": "Mim6IiGJCJDE",
        "outputId": "aed5d2d5-3e11-416e-f404-cbba0343a7a9"
      },
      "execution_count": 26,
      "outputs": [
        {
          "output_type": "execute_result",
          "data": {
            "text/plain": [
              "'Low'"
            ],
            "application/vnd.google.colaboratory.intrinsic+json": {
              "type": "string"
            }
          },
          "metadata": {},
          "execution_count": 26
        }
      ]
    },
    {
      "cell_type": "markdown",
      "source": [
        "# Named Entity Recognition"
      ],
      "metadata": {
        "id": "LZUsTusynmFe"
      }
    },
    {
      "cell_type": "code",
      "execution_count": 27,
      "metadata": {
        "id": "7i2ykStUBhLV"
      },
      "outputs": [],
      "source": [
        "import spacy"
      ]
    },
    {
      "cell_type": "code",
      "source": [
        "nlp=spacy.load(\"en_core_web_sm\")\n",
        "\n",
        "print(\"Available Pipe Actions : \",nlp.pipe_names)\n",
        "print(\"Labels :\",nlp.pipe_labels['ner'])"
      ],
      "metadata": {
        "colab": {
          "base_uri": "https://localhost:8080/"
        },
        "id": "5xSe51u8BkQZ",
        "outputId": "d260c74e-a90f-45ae-c5a9-b50517eb3399"
      },
      "execution_count": 28,
      "outputs": [
        {
          "output_type": "stream",
          "name": "stdout",
          "text": [
            "Available Pipe Actions :  ['tok2vec', 'tagger', 'parser', 'attribute_ruler', 'lemmatizer', 'ner']\n",
            "Labels : ['CARDINAL', 'DATE', 'EVENT', 'FAC', 'GPE', 'LANGUAGE', 'LAW', 'LOC', 'MONEY', 'NORP', 'ORDINAL', 'ORG', 'PERCENT', 'PERSON', 'PRODUCT', 'QUANTITY', 'TIME', 'WORK_OF_ART']\n"
          ]
        }
      ]
    },
    {
      "cell_type": "code",
      "source": [
        "text =\"tesla is going to acquire twitter for $45 billion\"\n",
        "# \"The CARDINAL number 42 is the answer to the ultimate question of life, the universe, and everything. On DATE 1969-07-20, the PERSON Neil Armstrong became the first PERSON to walk on the LOC Moon during the EVENT Apollo 11 mission. The GPE United States is home to the ORG National Aeronautics and Space Administration (NASA), which is headquartered in the FAC Lyndon B. Johnson Space Center in the GPE city of Houston, LANGUAGE English. The WORK_OF_ART Mona Lisa, painted by the PERSON Leonardo da Vinci, is a famous PRODUCT displayed at the FAC Louvre museum in GPE Paris, France. The NORP Chinese government passed the LAW Civil Code in YEAR 2020, which regulates QUANTITY 1.4 billion PERSON citizens. MONEY $1 million was donated to the ORG Red Cross to support disaster relief efforts. The ORDINAL 3rd tallest building in the world is the PRODUCT Abraj Al-Bait Towers in the GPE city of Mecca, COUNTRY Saudi Arabia. The PERCENT 92.7% of the population in the GPE country of Japan speaks the LANGUAGE Japanese.\"\n",
        "doc = nlp(text)\n",
        "\n",
        "for ent in doc.ents:\n",
        "  print(ent.text, \" | \", ent.label_, \" | \",spacy.explain(ent.label_))"
      ],
      "metadata": {
        "colab": {
          "base_uri": "https://localhost:8080/"
        },
        "id": "cLRIq1eFpA3m",
        "outputId": "cec47814-afe5-4405-b8d1-341d0958b352"
      },
      "execution_count": 29,
      "outputs": [
        {
          "output_type": "stream",
          "name": "stdout",
          "text": [
            "tesla  |  ORG  |  Companies, agencies, institutions, etc.\n",
            "$45 billion  |  MONEY  |  Monetary values, including unit\n"
          ]
        }
      ]
    },
    {
      "cell_type": "code",
      "source": [
        "#for better Visualization\n",
        "#text =\"The CARDINAL number 42 is the answer to the ultimate question of life, the universe, and everything. On DATE 1969-07-20, the PERSON Neil Armstrong became the first PERSON to walk on the LOC Moon during the EVENT Apollo 11 mission. The GPE United States is home to the ORG National Aeronautics and Space Administration (NASA), which is headquartered in the FAC Lyndon B. Johnson Space Center in the GPE city of Houston, LANGUAGE English. The WORK_OF_ART Mona Lisa, painted by the PERSON Leonardo da Vinci, is a famous PRODUCT displayed at the FAC Louvre museum in GPE Paris, France. The NORP Chinese government passed the LAW Civil Code in YEAR 2020, which regulates QUANTITY 1.4 billion PERSON citizens. MONEY $1 million was donated to the ORG Red Cross to support disaster relief efforts. The ORDINAL 3rd tallest building in the world is the PRODUCT Abraj Al-Bait Towers in the GPE city of Mecca, COUNTRY Saudi Arabia. The PERCENT 92.7% of the population in the GPE country of Japan speaks the LANGUAGE Japanese.\"\n",
        "\n",
        "\n",
        "text =\"Explain the theory of relativity in simple terms. \"\n",
        "\n",
        "doc = nlp(text)\n",
        "spacy.displacy.render(doc,style=\"ent\")"
      ],
      "metadata": {
        "colab": {
          "base_uri": "https://localhost:8080/",
          "height": 52
        },
        "id": "iyZcCSWxpQRq",
        "outputId": "ee789121-cba9-4d1e-936a-b9a2ae6712d6"
      },
      "execution_count": 30,
      "outputs": [
        {
          "output_type": "display_data",
          "data": {
            "text/plain": [
              "<IPython.core.display.HTML object>"
            ],
            "text/html": [
              "<span class=\"tex2jax_ignore\"><div class=\"entities\" style=\"line-height: 2.5; direction: ltr\">Explain the theory of relativity in simple terms. </div></span>"
            ]
          },
          "metadata": {}
        }
      ]
    },
    {
      "cell_type": "code",
      "source": [
        "def classify_by_ner(prompt):\n",
        "    doc = nlp(prompt)\n",
        "    print(spacy.displacy.render(doc, style=\"ent\"))\n",
        "    entity_count = len(doc)\n",
        "\n",
        "    if 0 <= entity_count <= 1:\n",
        "        return \"Low\"\n",
        "    elif entity_count == 2 :\n",
        "        return \"Mid\"\n",
        "    else:\n",
        "        return \"High\"\n",
        "\n",
        "\n",
        "prompt = \"what is AI explain in deep and what is AGI and how AI and AGI are different\"\n",
        "#prompt = \"what is AI and explain in detail\"\n",
        "#prompt = \"what is AI\"\n",
        "\n",
        "classify_by_ner(prompt)"
      ],
      "metadata": {
        "colab": {
          "base_uri": "https://localhost:8080/",
          "height": 88
        },
        "id": "ePuHgg3s4eSA",
        "outputId": "53fea1ff-d93c-454d-9887-8ad4a981a10f"
      },
      "execution_count": 31,
      "outputs": [
        {
          "output_type": "display_data",
          "data": {
            "text/plain": [
              "<IPython.core.display.HTML object>"
            ],
            "text/html": [
              "<span class=\"tex2jax_ignore\"><div class=\"entities\" style=\"line-height: 2.5; direction: ltr\">what is \n",
              "<mark class=\"entity\" style=\"background: #7aecec; padding: 0.45em 0.6em; margin: 0 0.25em; line-height: 1; border-radius: 0.35em;\">\n",
              "    AI\n",
              "    <span style=\"font-size: 0.8em; font-weight: bold; line-height: 1; border-radius: 0.35em; vertical-align: middle; margin-left: 0.5rem\">ORG</span>\n",
              "</mark>\n",
              " explain in deep and what is AGI and how \n",
              "<mark class=\"entity\" style=\"background: #7aecec; padding: 0.45em 0.6em; margin: 0 0.25em; line-height: 1; border-radius: 0.35em;\">\n",
              "    AI\n",
              "    <span style=\"font-size: 0.8em; font-weight: bold; line-height: 1; border-radius: 0.35em; vertical-align: middle; margin-left: 0.5rem\">ORG</span>\n",
              "</mark>\n",
              " and \n",
              "<mark class=\"entity\" style=\"background: #7aecec; padding: 0.45em 0.6em; margin: 0 0.25em; line-height: 1; border-radius: 0.35em;\">\n",
              "    AGI\n",
              "    <span style=\"font-size: 0.8em; font-weight: bold; line-height: 1; border-radius: 0.35em; vertical-align: middle; margin-left: 0.5rem\">ORG</span>\n",
              "</mark>\n",
              " are different</div></span>"
            ]
          },
          "metadata": {}
        },
        {
          "output_type": "stream",
          "name": "stdout",
          "text": [
            "None\n"
          ]
        },
        {
          "output_type": "execute_result",
          "data": {
            "text/plain": [
              "'High'"
            ],
            "application/vnd.google.colaboratory.intrinsic+json": {
              "type": "string"
            }
          },
          "metadata": {},
          "execution_count": 31
        }
      ]
    },
    {
      "cell_type": "markdown",
      "source": [
        "#Syntactic Complexity"
      ],
      "metadata": {
        "id": "HZiTU3GC4CaY"
      }
    },
    {
      "cell_type": "code",
      "source": [
        "import spacy\n",
        "\n",
        "nlp=spacy.load(\"en_core_web_sm\")"
      ],
      "metadata": {
        "id": "75VSSvoaCBX8"
      },
      "execution_count": 32,
      "outputs": []
    },
    {
      "cell_type": "code",
      "source": [
        "\n",
        "text =\"The CARDINAL number 42 is the answer to the ultimate question of life, the universe, and everything. On DATE 1969-07-20.\"\n",
        "doc = nlp(text)\n",
        "\n",
        "for token in doc:\n",
        "  print(str(token) + \" | \" + str(token.dep_) + \" | \" + spacy.explain(token.dep_) )"
      ],
      "metadata": {
        "colab": {
          "base_uri": "https://localhost:8080/"
        },
        "id": "kwcujFYv-Fmw",
        "outputId": "27e57e90-4533-4a7a-9605-c096662fd3c2"
      },
      "execution_count": 39,
      "outputs": [
        {
          "output_type": "stream",
          "name": "stdout",
          "text": [
            "The | det | determiner\n",
            "CARDINAL | compound | compound\n",
            "number | nsubj | nominal subject\n",
            "42 | nummod | numeric modifier\n",
            "is | ROOT | root\n",
            "the | det | determiner\n",
            "answer | attr | attribute\n",
            "to | prep | prepositional modifier\n",
            "the | det | determiner\n",
            "ultimate | amod | adjectival modifier\n",
            "question | pobj | object of preposition\n",
            "of | prep | prepositional modifier\n",
            "life | pobj | object of preposition\n",
            ", | punct | punctuation\n",
            "the | det | determiner\n",
            "universe | conj | conjunct\n",
            ", | punct | punctuation\n",
            "and | cc | coordinating conjunction\n",
            "everything | conj | conjunct\n",
            ". | punct | punctuation\n",
            "On | ROOT | root\n",
            "DATE | pobj | object of preposition\n",
            "1969 | nummod | numeric modifier\n",
            "- | punct | punctuation\n",
            "07 | prep | prepositional modifier\n",
            "- | punct | punctuation\n",
            "20 | prep | prepositional modifier\n",
            ". | punct | punctuation\n"
          ]
        }
      ]
    },
    {
      "cell_type": "code",
      "source": [
        "def classify_by_syntax(prompt):\n",
        "    doc = nlp(prompt)\n",
        "\n",
        "    conj_count = 0\n",
        "    sub_clause_count = 0\n",
        "\n",
        "    for token in doc:\n",
        "        if token.dep_ == \"conj\":\n",
        "            conj_count += 1\n",
        "        elif token.dep_ == \"relcl\":\n",
        "            sub_clause_count += 1\n",
        "\n",
        "    num_sentences = len(list(doc.sents))\n",
        "    avg_sentence_length = len(doc) / num_sentences if num_sentences > 0 else 0\n",
        "\n",
        "\n",
        "    complexity_score = conj_count + sub_clause_count + (1 if avg_sentence_length > 10 else 0)\n",
        "\n",
        "    if complexity_score == 0:\n",
        "        return \"Low\"\n",
        "    elif 1 <= complexity_score <= 2:\n",
        "        return \"Mid\"\n",
        "    else:\n",
        "        return \"High\"\n",
        "\n",
        "\n",
        "#prompt = \"what is AI explain in deep and what is AGI and how AI and AGI are different\"\n",
        "#prompt = \"what is AI and explain in detail\"\n",
        "prompt = \"what is AI\"\n",
        "classify_by_syntax(prompt)\n"
      ],
      "metadata": {
        "colab": {
          "base_uri": "https://localhost:8080/",
          "height": 36
        },
        "id": "1Blgujaf4FWz",
        "outputId": "0400abd8-800f-4f6d-b3a5-1b20723458dc"
      },
      "execution_count": 34,
      "outputs": [
        {
          "output_type": "execute_result",
          "data": {
            "text/plain": [
              "'Low'"
            ],
            "application/vnd.google.colaboratory.intrinsic+json": {
              "type": "string"
            }
          },
          "metadata": {},
          "execution_count": 34
        }
      ]
    },
    {
      "cell_type": "markdown",
      "source": [
        "#Prompt Complexity"
      ],
      "metadata": {
        "id": "oRQbYC9kB6Hk"
      }
    },
    {
      "cell_type": "code",
      "source": [
        "import spacy\n",
        "nlp=spacy.load(\"en_core_web_sm\")"
      ],
      "metadata": {
        "id": "PLdq2-kBEBPK"
      },
      "execution_count": 35,
      "outputs": []
    },
    {
      "cell_type": "code",
      "source": [
        "def classify_prompt_complexity(prompt):\n",
        "    # Length Classification\n",
        "    length = len(prompt.split())\n",
        "    if length <= 5:\n",
        "        length_complexity = \"Low\"\n",
        "    elif 6 <= length <= 10:\n",
        "        length_complexity = \"Mid\"\n",
        "    else:\n",
        "        length_complexity = \"High\"\n",
        "\n",
        "    # NER Classification\n",
        "    doc = nlp(prompt)\n",
        "    entity_count = len(doc.ents)\n",
        "    if entity_count == 0:\n",
        "        ner_complexity = \"Low\"\n",
        "    elif entity_count == 1:\n",
        "        ner_complexity = \"Mid\"\n",
        "    else:\n",
        "        ner_complexity = \"High\"\n",
        "\n",
        "    # Syntactic Complexity Calculation\n",
        "    conj_count = 0\n",
        "    sub_clause_count = 0\n",
        "\n",
        "    for token in doc:\n",
        "        if token.dep_ in {\"conj\", \"advcl\"}:  # Add advcl (adverbial clauses)\n",
        "            conj_count += 1\n",
        "        elif token.dep_ in {\"relcl\", \"ccomp\"}:  # Add complement clauses\n",
        "            sub_clause_count += 1\n",
        "\n",
        "    num_sentences = len(list(doc.sents))\n",
        "    avg_sentence_length = len(doc) / num_sentences if num_sentences > 0 else 0\n",
        "    complexity_score = (\n",
        "        conj_count + sub_clause_count + (1 if avg_sentence_length > 12 else 0)\n",
        "    )\n",
        "\n",
        "    if complexity_score == 0:\n",
        "        syntax_complexity = \"Low\"\n",
        "    elif 1 <= complexity_score <= 2:\n",
        "        syntax_complexity = \"Mid\"\n",
        "    else:\n",
        "        syntax_complexity = \"High\"\n",
        "\n",
        "    # Weighted Majority Logic\n",
        "    weights = {\n",
        "        \"Low\": 0,\n",
        "        \"Mid\": 2,\n",
        "        \"High\": 4\n",
        "    }\n",
        "\n",
        "    # Giving higher weight to NER and Syntax\n",
        "    total_score = (\n",
        "        weights[length_complexity] * 1 +\n",
        "        weights[ner_complexity] * 2 +\n",
        "        weights[syntax_complexity] * 3\n",
        "    )\n",
        "\n",
        "    # Final Complexity Classification\n",
        "    if total_score <= 3:\n",
        "        majority_complexity = \"Low\"\n",
        "    elif 4 <= total_score <= 8:\n",
        "        majority_complexity = \"Mid\"\n",
        "    else:\n",
        "        majority_complexity = \"High\"\n",
        "\n",
        "    print(f\"Prompt: {prompt}\")\n",
        "    print(f\"Length: {length_complexity} | NER: {ner_complexity} | Syntactic: {syntax_complexity}\")\n",
        "    print(f\"Majority Complexity: {majority_complexity}\\n\")"
      ],
      "metadata": {
        "id": "9Eh2zBQp9q5W"
      },
      "execution_count": 36,
      "outputs": []
    },
    {
      "cell_type": "code",
      "source": [
        "prompts = [\n",
        "    # Low Complexity\n",
        "    \"What is the time?\",  # Low\n",
        "    \"Hello!\",  # Low\n",
        "    \"Is it raining today?\",  # Low\n",
        "    \"Python or Java?\",  # Low\n",
        "    \"Good morning.\",  # Low\n",
        "\n",
        "    # Mid Complexity\n",
        "    \"Can you recommend a movie for tonight?\",  # Mid\n",
        "    \"What are the benefits of regular exercise?\",  # Mid\n",
        "    \"Where is the nearest ATM located?\",  # Mid\n",
        "    \"What’s the difference between HTTP and HTTPS?\",  # Mid\n",
        "    \"Tell me the weather forecast for tomorrow.\",  # Mid\n",
        "\n",
        "    # High Complexity\n",
        "    \"Can you explain how neural networks learn through backpropagation?\",  # High\n",
        "    \"Describe the impact of climate change on polar ecosystems and biodiversity.\",  # High\n",
        "    \"What are the similarities and differences between socialism and capitalism?\",  # High\n",
        "    \"How does Python’s garbage collector manage circular references?\",  # High\n",
        "    \"Provide a summary of the geopolitical impact of the Cold War on modern diplomacy.\",  # High\n",
        "]\n",
        "\n",
        "\n",
        "for prompt in prompts:\n",
        "  (classify_prompt_complexity(prompt))"
      ],
      "metadata": {
        "colab": {
          "base_uri": "https://localhost:8080/"
        },
        "id": "zCxZNP1PEHAp",
        "outputId": "40dc1575-1770-46d4-af52-2a9fdc89bb87"
      },
      "execution_count": 37,
      "outputs": [
        {
          "output_type": "stream",
          "name": "stdout",
          "text": [
            "Prompt: What is the time?\n",
            "Length: Low | NER: Low | Syntactic: Low\n",
            "Majority Complexity: Low\n",
            "\n",
            "Prompt: Hello!\n",
            "Length: Low | NER: Low | Syntactic: Low\n",
            "Majority Complexity: Low\n",
            "\n",
            "Prompt: Is it raining today?\n",
            "Length: Low | NER: Mid | Syntactic: Low\n",
            "Majority Complexity: Mid\n",
            "\n",
            "Prompt: Python or Java?\n",
            "Length: Low | NER: Mid | Syntactic: Mid\n",
            "Majority Complexity: High\n",
            "\n",
            "Prompt: Good morning.\n",
            "Length: Low | NER: Mid | Syntactic: Low\n",
            "Majority Complexity: Mid\n",
            "\n",
            "Prompt: Can you recommend a movie for tonight?\n",
            "Length: Mid | NER: Mid | Syntactic: Low\n",
            "Majority Complexity: Mid\n",
            "\n",
            "Prompt: What are the benefits of regular exercise?\n",
            "Length: Mid | NER: Low | Syntactic: Low\n",
            "Majority Complexity: Low\n",
            "\n",
            "Prompt: Where is the nearest ATM located?\n",
            "Length: Mid | NER: Mid | Syntactic: Low\n",
            "Majority Complexity: Mid\n",
            "\n",
            "Prompt: What’s the difference between HTTP and HTTPS?\n",
            "Length: Mid | NER: High | Syntactic: Mid\n",
            "Majority Complexity: High\n",
            "\n",
            "Prompt: Tell me the weather forecast for tomorrow.\n",
            "Length: Mid | NER: Mid | Syntactic: Low\n",
            "Majority Complexity: Mid\n",
            "\n",
            "Prompt: Can you explain how neural networks learn through backpropagation?\n",
            "Length: Mid | NER: Low | Syntactic: Mid\n",
            "Majority Complexity: Mid\n",
            "\n",
            "Prompt: Describe the impact of climate change on polar ecosystems and biodiversity.\n",
            "Length: High | NER: Low | Syntactic: Mid\n",
            "Majority Complexity: High\n",
            "\n",
            "Prompt: What are the similarities and differences between socialism and capitalism?\n",
            "Length: Mid | NER: Low | Syntactic: Mid\n",
            "Majority Complexity: Mid\n",
            "\n",
            "Prompt: How does Python’s garbage collector manage circular references?\n",
            "Length: Mid | NER: Low | Syntactic: Low\n",
            "Majority Complexity: Low\n",
            "\n",
            "Prompt: Provide a summary of the geopolitical impact of the Cold War on modern diplomacy.\n",
            "Length: High | NER: Mid | Syntactic: Mid\n",
            "Majority Complexity: High\n",
            "\n"
          ]
        }
      ]
    },
    {
      "cell_type": "code",
      "source": [
        "prompts = [\n",
        "    \"What is the time?\",  # Low\n",
        "    \"Can you recommend a movie for tonight?\",  # Mid\n",
        "    \"Describe the impact of climate change on polar ecosystems and biodiversity.\",  # High\n",
        "    \"Python or Java?\",  # Low\n",
        "    \"What’s the difference between HTTP and HTTPS?\",  # Mid\n",
        "    \"How does Python’s garbage collector manage circular references?\",  # Mid\n",
        "    \"Hello!\",  # Low\n",
        "    \"Is it raining today?\",  # Low\n",
        "    \"Provide a summary of the geopolitical impact of the Cold War on modern diplomacy.\",  # High\n",
        "]\n",
        "\n",
        "for prompt in prompts:\n",
        "    classify_prompt_complexity(prompt)\n"
      ],
      "metadata": {
        "id": "-r61CgDJRCbl",
        "colab": {
          "base_uri": "https://localhost:8080/"
        },
        "outputId": "51356fd4-90bb-4d54-9715-da89624f5f48"
      },
      "execution_count": 38,
      "outputs": [
        {
          "output_type": "stream",
          "name": "stdout",
          "text": [
            "Prompt: What is the time?\n",
            "Length: Low | NER: Low | Syntactic: Low\n",
            "Majority Complexity: Low\n",
            "\n",
            "Prompt: Can you recommend a movie for tonight?\n",
            "Length: Mid | NER: Mid | Syntactic: Low\n",
            "Majority Complexity: Mid\n",
            "\n",
            "Prompt: Describe the impact of climate change on polar ecosystems and biodiversity.\n",
            "Length: High | NER: Low | Syntactic: Mid\n",
            "Majority Complexity: High\n",
            "\n",
            "Prompt: Python or Java?\n",
            "Length: Low | NER: Mid | Syntactic: Mid\n",
            "Majority Complexity: High\n",
            "\n",
            "Prompt: What’s the difference between HTTP and HTTPS?\n",
            "Length: Mid | NER: High | Syntactic: Mid\n",
            "Majority Complexity: High\n",
            "\n",
            "Prompt: How does Python’s garbage collector manage circular references?\n",
            "Length: Mid | NER: Low | Syntactic: Low\n",
            "Majority Complexity: Low\n",
            "\n",
            "Prompt: Hello!\n",
            "Length: Low | NER: Low | Syntactic: Low\n",
            "Majority Complexity: Low\n",
            "\n",
            "Prompt: Is it raining today?\n",
            "Length: Low | NER: Mid | Syntactic: Low\n",
            "Majority Complexity: Mid\n",
            "\n",
            "Prompt: Provide a summary of the geopolitical impact of the Cold War on modern diplomacy.\n",
            "Length: High | NER: Mid | Syntactic: Mid\n",
            "Majority Complexity: High\n",
            "\n"
          ]
        }
      ]
    }
  ]
}