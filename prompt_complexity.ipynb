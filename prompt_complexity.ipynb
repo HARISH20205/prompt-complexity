{
  "nbformat": 4,
  "nbformat_minor": 0,
  "metadata": {
    "colab": {
      "provenance": []
    },
    "kernelspec": {
      "name": "python3",
      "display_name": "Python 3"
    },
    "language_info": {
      "name": "python"
    }
  },
  "cells": [
    {
      "cell_type": "markdown",
      "source": [
        "#Prompt Length"
      ],
      "metadata": {
        "id": "jm5bBj7PCKIY"
      }
    },
    {
      "cell_type": "code",
      "source": [
        "def classify_by_length(prompt):\n",
        "    length = len(prompt.split())\n",
        "    if length <= 5:\n",
        "        return \"Low\"\n",
        "    elif 6 <= length <= 15:\n",
        "        return \"Mid\"\n",
        "    else:\n",
        "        return \"High\"\n",
        "\n",
        "#prompt = \"what is AI explain in deep and what is AGI and how AI and AGI are different\"\n",
        "#prompt = \"what is AI and explain in detail\"\n",
        "prompt = \"what is AI\"\n",
        "\n",
        "classify_by_length(prompt)"
      ],
      "metadata": {
        "colab": {
          "base_uri": "https://localhost:8080/",
          "height": 36
        },
        "id": "Mim6IiGJCJDE",
        "outputId": "788f1eb2-c48c-4249-ceca-cf523f54e8f1"
      },
      "execution_count": 61,
      "outputs": [
        {
          "output_type": "execute_result",
          "data": {
            "text/plain": [
              "'Low'"
            ],
            "application/vnd.google.colaboratory.intrinsic+json": {
              "type": "string"
            }
          },
          "metadata": {},
          "execution_count": 61
        }
      ]
    },
    {
      "cell_type": "markdown",
      "source": [
        "# Named Entity Recognition"
      ],
      "metadata": {
        "id": "LZUsTusynmFe"
      }
    },
    {
      "cell_type": "code",
      "execution_count": 15,
      "metadata": {
        "id": "7i2ykStUBhLV"
      },
      "outputs": [],
      "source": [
        "import spacy"
      ]
    },
    {
      "cell_type": "code",
      "source": [
        "nlp=spacy.load(\"en_core_web_sm\")\n",
        "\n",
        "print(\"Available Pipe Actions : \",nlp.pipe_names)\n",
        "print(\"Labels :\",nlp.pipe_labels['ner'])"
      ],
      "metadata": {
        "colab": {
          "base_uri": "https://localhost:8080/"
        },
        "id": "5xSe51u8BkQZ",
        "outputId": "84794f2f-0a1a-4983-9d29-49c223ed04bc"
      },
      "execution_count": 29,
      "outputs": [
        {
          "output_type": "stream",
          "name": "stdout",
          "text": [
            "Available Pipe Actions :  ['tok2vec', 'tagger', 'parser', 'attribute_ruler', 'lemmatizer', 'ner']\n",
            "Labels : ['CARDINAL', 'DATE', 'EVENT', 'FAC', 'GPE', 'LANGUAGE', 'LAW', 'LOC', 'MONEY', 'NORP', 'ORDINAL', 'ORG', 'PERCENT', 'PERSON', 'PRODUCT', 'QUANTITY', 'TIME', 'WORK_OF_ART']\n"
          ]
        }
      ]
    },
    {
      "cell_type": "code",
      "source": [
        "text =\"tesla is going to acquire twitter for $45 billion\"\n",
        "# \"The CARDINAL number 42 is the answer to the ultimate question of life, the universe, and everything. On DATE 1969-07-20, the PERSON Neil Armstrong became the first PERSON to walk on the LOC Moon during the EVENT Apollo 11 mission. The GPE United States is home to the ORG National Aeronautics and Space Administration (NASA), which is headquartered in the FAC Lyndon B. Johnson Space Center in the GPE city of Houston, LANGUAGE English. The WORK_OF_ART Mona Lisa, painted by the PERSON Leonardo da Vinci, is a famous PRODUCT displayed at the FAC Louvre museum in GPE Paris, France. The NORP Chinese government passed the LAW Civil Code in YEAR 2020, which regulates QUANTITY 1.4 billion PERSON citizens. MONEY $1 million was donated to the ORG Red Cross to support disaster relief efforts. The ORDINAL 3rd tallest building in the world is the PRODUCT Abraj Al-Bait Towers in the GPE city of Mecca, COUNTRY Saudi Arabia. The PERCENT 92.7% of the population in the GPE country of Japan speaks the LANGUAGE Japanese.\"\n",
        "doc = nlp(text)\n",
        "\n",
        "for ent in doc.ents:\n",
        "  print(ent.text, \" | \", ent.label_, \" | \",spacy.explain(ent.label_))"
      ],
      "metadata": {
        "colab": {
          "base_uri": "https://localhost:8080/"
        },
        "id": "cLRIq1eFpA3m",
        "outputId": "423228a2-c738-426b-cf18-27795beec436"
      },
      "execution_count": 32,
      "outputs": [
        {
          "output_type": "stream",
          "name": "stdout",
          "text": [
            "tesla  |  ORG  |  Companies, agencies, institutions, etc.\n",
            "$45 billion  |  MONEY  |  Monetary values, including unit\n"
          ]
        }
      ]
    },
    {
      "cell_type": "code",
      "source": [
        "#for better Visualization\n",
        "#text =\"The CARDINAL number 42 is the answer to the ultimate question of life, the universe, and everything. On DATE 1969-07-20, the PERSON Neil Armstrong became the first PERSON to walk on the LOC Moon during the EVENT Apollo 11 mission. The GPE United States is home to the ORG National Aeronautics and Space Administration (NASA), which is headquartered in the FAC Lyndon B. Johnson Space Center in the GPE city of Houston, LANGUAGE English. The WORK_OF_ART Mona Lisa, painted by the PERSON Leonardo da Vinci, is a famous PRODUCT displayed at the FAC Louvre museum in GPE Paris, France. The NORP Chinese government passed the LAW Civil Code in YEAR 2020, which regulates QUANTITY 1.4 billion PERSON citizens. MONEY $1 million was donated to the ORG Red Cross to support disaster relief efforts. The ORDINAL 3rd tallest building in the world is the PRODUCT Abraj Al-Bait Towers in the GPE city of Mecca, COUNTRY Saudi Arabia. The PERCENT 92.7% of the population in the GPE country of Japan speaks the LANGUAGE Japanese.\"\n",
        "\n",
        "\n",
        "text =\"Explain the theory of relativity in simple terms. \"\n",
        "\n",
        "doc = nlp(text)\n",
        "spacy.displacy.render(doc,style=\"ent\")"
      ],
      "metadata": {
        "colab": {
          "base_uri": "https://localhost:8080/",
          "height": 109
        },
        "id": "iyZcCSWxpQRq",
        "outputId": "3f295182-8a10-423a-f31a-a1344071fecf"
      },
      "execution_count": 151,
      "outputs": [
        {
          "output_type": "stream",
          "name": "stderr",
          "text": [
            "/usr/local/lib/python3.10/dist-packages/spacy/displacy/__init__.py:213: UserWarning: [W006] No entities to visualize found in Doc object. If this is surprising to you, make sure the Doc was processed using a model that supports named entity recognition, and check the `doc.ents` property manually if necessary.\n",
            "  warnings.warn(Warnings.W006)\n"
          ]
        },
        {
          "output_type": "display_data",
          "data": {
            "text/plain": [
              "<IPython.core.display.HTML object>"
            ],
            "text/html": [
              "<span class=\"tex2jax_ignore\"><div class=\"entities\" style=\"line-height: 2.5; direction: ltr\">Explain the theory of relativity in simple terms. </div></span>"
            ]
          },
          "metadata": {}
        }
      ]
    },
    {
      "cell_type": "code",
      "source": [
        "def classify_by_ner(prompt):\n",
        "    doc = nlp(prompt)\n",
        "    print(spacy.displacy.render(doc, style=\"ent\"))\n",
        "    entity_count = len(doc)\n",
        "\n",
        "    if 0 <= entity_count <= 1:\n",
        "        return \"Low\"\n",
        "    elif entity_count == 2 :\n",
        "        return \"Mid\"\n",
        "    else:\n",
        "        return \"High\"\n",
        "\n",
        "\n",
        "prompt = \"what is AI explain in deep and what is AGI and how AI and AGI are different\"\n",
        "#prompt = \"what is AI and explain in detail\"\n",
        "#prompt = \"what is AI\"\n",
        "\n",
        "classify_by_ner(prompt)"
      ],
      "metadata": {
        "colab": {
          "base_uri": "https://localhost:8080/",
          "height": 89
        },
        "id": "ePuHgg3s4eSA",
        "outputId": "72ccb309-d54b-4fca-8696-501d561a5d2d"
      },
      "execution_count": 154,
      "outputs": [
        {
          "output_type": "display_data",
          "data": {
            "text/plain": [
              "<IPython.core.display.HTML object>"
            ],
            "text/html": [
              "<span class=\"tex2jax_ignore\"><div class=\"entities\" style=\"line-height: 2.5; direction: ltr\">what is \n",
              "<mark class=\"entity\" style=\"background: #7aecec; padding: 0.45em 0.6em; margin: 0 0.25em; line-height: 1; border-radius: 0.35em;\">\n",
              "    AI\n",
              "    <span style=\"font-size: 0.8em; font-weight: bold; line-height: 1; border-radius: 0.35em; vertical-align: middle; margin-left: 0.5rem\">ORG</span>\n",
              "</mark>\n",
              " explain in deep and what is AGI and how \n",
              "<mark class=\"entity\" style=\"background: #7aecec; padding: 0.45em 0.6em; margin: 0 0.25em; line-height: 1; border-radius: 0.35em;\">\n",
              "    AI\n",
              "    <span style=\"font-size: 0.8em; font-weight: bold; line-height: 1; border-radius: 0.35em; vertical-align: middle; margin-left: 0.5rem\">ORG</span>\n",
              "</mark>\n",
              " and \n",
              "<mark class=\"entity\" style=\"background: #7aecec; padding: 0.45em 0.6em; margin: 0 0.25em; line-height: 1; border-radius: 0.35em;\">\n",
              "    AGI\n",
              "    <span style=\"font-size: 0.8em; font-weight: bold; line-height: 1; border-radius: 0.35em; vertical-align: middle; margin-left: 0.5rem\">ORG</span>\n",
              "</mark>\n",
              " are different</div></span>"
            ]
          },
          "metadata": {}
        },
        {
          "output_type": "stream",
          "name": "stdout",
          "text": [
            "None\n"
          ]
        },
        {
          "output_type": "execute_result",
          "data": {
            "text/plain": [
              "'High'"
            ],
            "application/vnd.google.colaboratory.intrinsic+json": {
              "type": "string"
            }
          },
          "metadata": {},
          "execution_count": 154
        }
      ]
    },
    {
      "cell_type": "markdown",
      "source": [
        "#Syntactic Complexity"
      ],
      "metadata": {
        "id": "HZiTU3GC4CaY"
      }
    },
    {
      "cell_type": "code",
      "source": [
        "import spacy\n",
        "\n",
        "nlp=spacy.load(\"en_core_web_sm\")"
      ],
      "metadata": {
        "id": "75VSSvoaCBX8"
      },
      "execution_count": 59,
      "outputs": []
    },
    {
      "cell_type": "code",
      "source": [
        "\n",
        "text =\"The CARDINAL number 42 is the answer to the ultimate question of life, the universe, and everything. On DATE 1969-07-20, the PERSON Neil Armstrong became the first PERSON to walk on the LOC Moon during the EVENT Apollo 11 mission. The GPE United States is home to the ORG National Aeronautics and Space Administration (NASA), which is headquartered in the FAC Lyndon B. Johnson Space Center in the GPE city of Houston, LANGUAGE English. The WORK_OF_ART Mona Lisa, painted by the PERSON Leonardo da Vinci, is a famous PRODUCT displayed at the FAC Louvre museum in GPE Paris, France. The NORP Chinese government passed the LAW Civil Code in YEAR 2020, which regulates QUANTITY 1.4 billion PERSON citizens. MONEY $1 million was donated to the ORG Red Cross to support disaster relief efforts. The ORDINAL 3rd tallest building in the world is the PRODUCT Abraj Al-Bait Towers in the GPE city of Mecca, COUNTRY Saudi Arabia. The PERCENT 92.7% of the population in the GPE country of Japan speaks the LANGUAGE Japanese.\"\n",
        "doc = nlp(text)\n",
        "\n",
        "for token in doc:\n",
        "  print(str(token) + \" | \" + str(token.dep_) + \" | \" + spacy.explain(token.dep_) )"
      ],
      "metadata": {
        "colab": {
          "base_uri": "https://localhost:8080/"
        },
        "id": "kwcujFYv-Fmw",
        "outputId": "24cd0daf-bfc7-48be-ecc9-68fb45d4aa33"
      },
      "execution_count": 45,
      "outputs": [
        {
          "output_type": "stream",
          "name": "stdout",
          "text": [
            "The | det | determiner\n",
            "CARDINAL | compound | compound\n",
            "number | nsubj | nominal subject\n",
            "42 | nummod | numeric modifier\n",
            "is | ROOT | root\n",
            "the | det | determiner\n",
            "answer | attr | attribute\n",
            "to | prep | prepositional modifier\n",
            "the | det | determiner\n",
            "ultimate | amod | adjectival modifier\n",
            "question | pobj | object of preposition\n",
            "of | prep | prepositional modifier\n",
            "life | pobj | object of preposition\n",
            ", | punct | punctuation\n",
            "the | det | determiner\n",
            "universe | conj | conjunct\n",
            ", | punct | punctuation\n",
            "and | cc | coordinating conjunction\n",
            "everything | conj | conjunct\n",
            ". | punct | punctuation\n",
            "On | prep | prepositional modifier\n",
            "DATE | pobj | object of preposition\n",
            "1969 | nummod | numeric modifier\n",
            "- | punct | punctuation\n",
            "07 | prep | prepositional modifier\n",
            "- | punct | punctuation\n",
            "20 | prep | prepositional modifier\n",
            ", | punct | punctuation\n",
            "the | det | determiner\n",
            "PERSON | nsubj | nominal subject\n",
            "Neil | compound | compound\n",
            "Armstrong | appos | appositional modifier\n",
            "became | ROOT | root\n",
            "the | det | determiner\n",
            "first | amod | adjectival modifier\n",
            "PERSON | attr | attribute\n",
            "to | aux | auxiliary\n",
            "walk | relcl | relative clause modifier\n",
            "on | prep | prepositional modifier\n",
            "the | det | determiner\n",
            "LOC | compound | compound\n",
            "Moon | pobj | object of preposition\n",
            "during | prep | prepositional modifier\n",
            "the | det | determiner\n",
            "EVENT | compound | compound\n",
            "Apollo | nmod | modifier of nominal\n",
            "11 | nummod | numeric modifier\n",
            "mission | pobj | object of preposition\n",
            ". | punct | punctuation\n",
            "The | det | determiner\n",
            "GPE | compound | compound\n",
            "United | compound | compound\n",
            "States | nsubj | nominal subject\n",
            "is | ROOT | root\n",
            "home | advmod | adverbial modifier\n",
            "to | prep | prepositional modifier\n",
            "the | det | determiner\n",
            "ORG | nmod | modifier of nominal\n",
            "National | nmod | modifier of nominal\n",
            "Aeronautics | nmod | modifier of nominal\n",
            "and | cc | coordinating conjunction\n",
            "Space | conj | conjunct\n",
            "Administration | pobj | object of preposition\n",
            "( | punct | punctuation\n",
            "NASA | appos | appositional modifier\n",
            ") | punct | punctuation\n",
            ", | punct | punctuation\n",
            "which | nsubjpass | nominal subject (passive)\n",
            "is | auxpass | auxiliary (passive)\n",
            "headquartered | relcl | relative clause modifier\n",
            "in | prep | prepositional modifier\n",
            "the | det | determiner\n",
            "FAC | compound | compound\n",
            "Lyndon | compound | compound\n",
            "B. | compound | compound\n",
            "Johnson | compound | compound\n",
            "Space | compound | compound\n",
            "Center | pobj | object of preposition\n",
            "in | prep | prepositional modifier\n",
            "the | det | determiner\n",
            "GPE | compound | compound\n",
            "city | pobj | object of preposition\n",
            "of | prep | prepositional modifier\n",
            "Houston | pobj | object of preposition\n",
            ", | punct | punctuation\n",
            "LANGUAGE | compound | compound\n",
            "English | appos | appositional modifier\n",
            ". | punct | punctuation\n",
            "The | det | determiner\n",
            "WORK_OF_ART | compound | compound\n",
            "Mona | compound | compound\n",
            "Lisa | nsubj | nominal subject\n",
            ", | punct | punctuation\n",
            "painted | acl | clausal modifier of noun (adjectival clause)\n",
            "by | agent | agent\n",
            "the | det | determiner\n",
            "PERSON | pobj | object of preposition\n",
            "Leonardo | compound | compound\n",
            "da | compound | compound\n",
            "Vinci | appos | appositional modifier\n",
            ", | punct | punctuation\n",
            "is | ROOT | root\n",
            "a | det | determiner\n",
            "famous | amod | adjectival modifier\n",
            "PRODUCT | attr | attribute\n",
            "displayed | acl | clausal modifier of noun (adjectival clause)\n",
            "at | prep | prepositional modifier\n",
            "the | det | determiner\n",
            "FAC | compound | compound\n",
            "Louvre | compound | compound\n",
            "museum | pobj | object of preposition\n",
            "in | prep | prepositional modifier\n",
            "GPE | compound | compound\n",
            "Paris | pobj | object of preposition\n",
            ", | punct | punctuation\n",
            "France | appos | appositional modifier\n",
            ". | punct | punctuation\n",
            "The | det | determiner\n",
            "NORP | compound | compound\n",
            "Chinese | amod | adjectival modifier\n",
            "government | nsubj | nominal subject\n",
            "passed | ROOT | root\n",
            "the | det | determiner\n",
            "LAW | dative | dative\n",
            "Civil | compound | compound\n",
            "Code | appos | appositional modifier\n",
            "in | prep | prepositional modifier\n",
            "YEAR | pobj | object of preposition\n",
            "2020 | nummod | numeric modifier\n",
            ", | punct | punctuation\n",
            "which | nsubj | nominal subject\n",
            "regulates | advcl | adverbial clause modifier\n",
            "QUANTITY | nmod | modifier of nominal\n",
            "1.4 | compound | compound\n",
            "billion | nummod | numeric modifier\n",
            "PERSON | compound | compound\n",
            "citizens | dobj | direct object\n",
            ". | punct | punctuation\n",
            "MONEY | dep | unclassified dependent\n",
            "$ | quantmod | modifier of quantifier\n",
            "1 | compound | compound\n",
            "million | nsubjpass | nominal subject (passive)\n",
            "was | auxpass | auxiliary (passive)\n",
            "donated | ROOT | root\n",
            "to | prep | prepositional modifier\n",
            "the | det | determiner\n",
            "ORG | compound | compound\n",
            "Red | compound | compound\n",
            "Cross | pobj | object of preposition\n",
            "to | aux | auxiliary\n",
            "support | advcl | adverbial clause modifier\n",
            "disaster | compound | compound\n",
            "relief | compound | compound\n",
            "efforts | dobj | direct object\n",
            ". | punct | punctuation\n",
            "The | det | determiner\n",
            "ORDINAL | nmod | modifier of nominal\n",
            "3rd | nmod | modifier of nominal\n",
            "tallest | amod | adjectival modifier\n",
            "building | nsubj | nominal subject\n",
            "in | prep | prepositional modifier\n",
            "the | det | determiner\n",
            "world | pobj | object of preposition\n",
            "is | ROOT | root\n",
            "the | det | determiner\n",
            "PRODUCT | attr | attribute\n",
            "Abraj | compound | compound\n",
            "Al | compound | compound\n",
            "- | punct | punctuation\n",
            "Bait | compound | compound\n",
            "Towers | appos | appositional modifier\n",
            "in | prep | prepositional modifier\n",
            "the | det | determiner\n",
            "GPE | compound | compound\n",
            "city | pobj | object of preposition\n",
            "of | prep | prepositional modifier\n",
            "Mecca | pobj | object of preposition\n",
            ", | punct | punctuation\n",
            "COUNTRY | compound | compound\n",
            "Saudi | compound | compound\n",
            "Arabia | appos | appositional modifier\n",
            ". | punct | punctuation\n",
            "The | det | determiner\n",
            "PERCENT | nsubj | nominal subject\n",
            "92.7 | nummod | numeric modifier\n",
            "% | nsubj | nominal subject\n",
            "of | prep | prepositional modifier\n",
            "the | det | determiner\n",
            "population | pobj | object of preposition\n",
            "in | prep | prepositional modifier\n",
            "the | det | determiner\n",
            "GPE | compound | compound\n",
            "country | pobj | object of preposition\n",
            "of | prep | prepositional modifier\n",
            "Japan | pobj | object of preposition\n",
            "speaks | ROOT | root\n",
            "the | det | determiner\n",
            "LANGUAGE | compound | compound\n",
            "Japanese | dobj | direct object\n",
            ". | punct | punctuation\n"
          ]
        }
      ]
    },
    {
      "cell_type": "code",
      "source": [
        "def classify_by_syntax(prompt):\n",
        "    doc = nlp(prompt)\n",
        "\n",
        "    conj_count = 0\n",
        "    sub_clause_count = 0\n",
        "\n",
        "    for token in doc:\n",
        "        if token.dep_ == \"conj\":\n",
        "            conj_count += 1\n",
        "        elif token.dep_ == \"relcl\":\n",
        "            sub_clause_count += 1\n",
        "\n",
        "    num_sentences = len(list(doc.sents))\n",
        "    avg_sentence_length = len(doc) / num_sentences if num_sentences > 0 else 0\n",
        "\n",
        "\n",
        "    complexity_score = conj_count + sub_clause_count + (1 if avg_sentence_length > 10 else 0)\n",
        "\n",
        "    if complexity_score == 0:\n",
        "        return \"Low\"\n",
        "    elif 1 <= complexity_score <= 2:\n",
        "        return \"Mid\"\n",
        "    else:\n",
        "        return \"High\"\n",
        "\n",
        "\n",
        "#prompt = \"what is AI explain in deep and what is AGI and how AI and AGI are different\"\n",
        "#prompt = \"what is AI and explain in detail\"\n",
        "prompt = \"what is AI\"\n",
        "classify_by_syntax(prompt)\n",
        ""
      ],
      "metadata": {
        "colab": {
          "base_uri": "https://localhost:8080/",
          "height": 36
        },
        "id": "1Blgujaf4FWz",
        "outputId": "9776111b-d673-4b8b-8101-01c103c4ae7f"
      },
      "execution_count": 63,
      "outputs": [
        {
          "output_type": "execute_result",
          "data": {
            "text/plain": [
              "'Low'"
            ],
            "application/vnd.google.colaboratory.intrinsic+json": {
              "type": "string"
            }
          },
          "metadata": {},
          "execution_count": 63
        }
      ]
    },
    {
      "cell_type": "markdown",
      "source": [
        "#Prompt Complexity"
      ],
      "metadata": {
        "id": "oRQbYC9kB6Hk"
      }
    },
    {
      "cell_type": "code",
      "source": [
        "import spacy\n",
        "nlp=spacy.load(\"en_core_web_sm\")"
      ],
      "metadata": {
        "id": "PLdq2-kBEBPK"
      },
      "execution_count": 68,
      "outputs": []
    },
    {
      "cell_type": "code",
      "source": [
        "\n",
        "\n",
        "def classify_prompt_complexity(prompt):\n",
        "    # Classify by length\n",
        "    length = len(prompt.split())\n",
        "    if length <= 5:\n",
        "        length_complexity = \"Low\"\n",
        "    elif 6 <= length <= 10:\n",
        "        length_complexity = \"Mid\"\n",
        "    else:\n",
        "        length_complexity = \"High\"\n",
        "\n",
        "    # Classify by named entity recognition\n",
        "    doc = nlp(prompt)\n",
        "    entity_count = len(doc.ents)\n",
        "    if entity_count ==0:\n",
        "        ner_complexity = \"Low\"\n",
        "    elif entity_count == 1:\n",
        "        ner_complexity = \"Mid\"\n",
        "    else:\n",
        "        ner_complexity = \"High\"\n",
        "\n",
        "    # Classify by syntactic complexity\n",
        "    conj_count = 0\n",
        "    sub_clause_count = 0\n",
        "\n",
        "    for token in doc:\n",
        "        if token.dep_ == \"conj\":\n",
        "            conj_count += 1\n",
        "        elif token.dep_ == \"relcl\":\n",
        "            sub_clause_count += 1\n",
        "\n",
        "    num_sentences = len(list(doc.sents))\n",
        "    avg_sentence_length = len(doc) / num_sentences if num_sentences > 0 else 0\n",
        "\n",
        "\n",
        "    complexity_score = conj_count + sub_clause_count + (1 if avg_sentence_length > 10 else 0)\n",
        "\n",
        "    if complexity_score == 0:\n",
        "        syntax_complexity =  \"Low\"\n",
        "    elif 1 <= complexity_score <= 2:\n",
        "        syntax_complexity =  \"Mid\"\n",
        "    else:\n",
        "        syntax_complexity =  \"High\"\n",
        "\n",
        "    complexities = [length_complexity, syntax_complexity]\n",
        "    complexity = \"Low\"\n",
        "    lc = complexities.count(\"Low\")\n",
        "    mc = complexities.count(\"Mid\")\n",
        "    hc = complexities.count(\"High\")\n",
        "    if hc > mc and hc > lc:\n",
        "        complexity = \"High\"\n",
        "    elif mc > lc:\n",
        "        complexity = \"Mid\"\n",
        "\n",
        "    print(f\"prompt : {prompt} \\nlength : {length_complexity} | NER : {ner_complexity}  | Syntactic {syntax_complexity} \\nMajority Complexity: {complexity}\\n\")\n"
      ],
      "metadata": {
        "id": "9Eh2zBQp9q5W"
      },
      "execution_count": 168,
      "outputs": []
    },
    {
      "cell_type": "code",
      "source": [
        "prompts = [\n",
        "    \"What is the capital of France?\",\n",
        "    \"List five benefits of regular exercise.\",\n",
        "    \"Explain the theory of relativity in simple terms.\",\n",
        "    \"Write a short story about a lost puppy.\",\n",
        "    \"How do you prepare for a job interview?\",\n",
        "    \"What are the key differences between renewable and non-renewable energy sources?\",\n",
        "    \"Generate a SQL query to retrieve all records from a users table.\",\n",
        "    \"Discuss the significance of the Mona Lisa in art history.\",\n",
        "    \"Create a marketing plan for a new smartphone.\",\n",
        "    \"What is the process of photosynthesis?\",\n",
        "    \"Write a haiku about nature.\",\n",
        "    \"Analyze the impact of social media on modern communication.\",\n",
        "    \"Explain the steps involved in the scientific method.\",\n",
        "    \"What are the ethical implications of artificial intelligence?\",\n",
        "    \"Create a Python function that checks if a number is prime.\",\n",
        "    \"Summarize the main themes of George Orwell's 1984.\",\n",
        "    \"What are the benefits of meditation?\",\n",
        "    \"Draft an email to a colleague requesting a project update.\",\n",
        "    \"What are the challenges of climate change?\",\n",
        "    \"Describe the significance of blockchain technology in finance.\"\n",
        "]\n",
        "\n",
        "for prompt in prompts:\n",
        "  (classify_prompt_complexity(prompt))"
      ],
      "metadata": {
        "colab": {
          "base_uri": "https://localhost:8080/"
        },
        "id": "zCxZNP1PEHAp",
        "outputId": "1b8a18e9-5208-431b-9597-dd2688ba5c52"
      },
      "execution_count": 169,
      "outputs": [
        {
          "output_type": "stream",
          "name": "stdout",
          "text": [
            "prompt : What is the capital of France? \n",
            "length : Mid | NER : Mid  | Syntactic Low \n",
            "Majority Complexity: Low\n",
            "\n",
            "prompt : List five benefits of regular exercise. \n",
            "length : Mid | NER : Mid  | Syntactic Low \n",
            "Majority Complexity: Low\n",
            "\n",
            "prompt : Explain the theory of relativity in simple terms. \n",
            "length : Mid | NER : Low  | Syntactic Low \n",
            "Majority Complexity: Low\n",
            "\n",
            "prompt : Write a short story about a lost puppy. \n",
            "length : Mid | NER : Low  | Syntactic Low \n",
            "Majority Complexity: Low\n",
            "\n",
            "prompt : How do you prepare for a job interview? \n",
            "length : Mid | NER : Low  | Syntactic Low \n",
            "Majority Complexity: Low\n",
            "\n",
            "prompt : What are the key differences between renewable and non-renewable energy sources? \n",
            "length : High | NER : Low  | Syntactic High \n",
            "Majority Complexity: High\n",
            "\n",
            "prompt : Generate a SQL query to retrieve all records from a users table. \n",
            "length : High | NER : Mid  | Syntactic Mid \n",
            "Majority Complexity: Mid\n",
            "\n",
            "prompt : Discuss the significance of the Mona Lisa in art history. \n",
            "length : Mid | NER : Mid  | Syntactic Mid \n",
            "Majority Complexity: Mid\n",
            "\n",
            "prompt : Create a marketing plan for a new smartphone. \n",
            "length : Mid | NER : Low  | Syntactic Low \n",
            "Majority Complexity: Low\n",
            "\n",
            "prompt : What is the process of photosynthesis? \n",
            "length : Mid | NER : Low  | Syntactic Low \n",
            "Majority Complexity: Low\n",
            "\n",
            "prompt : Write a haiku about nature. \n",
            "length : Low | NER : Low  | Syntactic Low \n",
            "Majority Complexity: Low\n",
            "\n",
            "prompt : Analyze the impact of social media on modern communication. \n",
            "length : Mid | NER : Low  | Syntactic Low \n",
            "Majority Complexity: Low\n",
            "\n",
            "prompt : Explain the steps involved in the scientific method. \n",
            "length : Mid | NER : Low  | Syntactic Low \n",
            "Majority Complexity: Low\n",
            "\n",
            "prompt : What are the ethical implications of artificial intelligence? \n",
            "length : Mid | NER : Low  | Syntactic Low \n",
            "Majority Complexity: Low\n",
            "\n",
            "prompt : Create a Python function that checks if a number is prime. \n",
            "length : High | NER : Low  | Syntactic Mid \n",
            "Majority Complexity: Mid\n",
            "\n",
            "prompt : Summarize the main themes of George Orwell's 1984. \n",
            "length : Mid | NER : High  | Syntactic Low \n",
            "Majority Complexity: Low\n",
            "\n",
            "prompt : What are the benefits of meditation? \n",
            "length : Mid | NER : Low  | Syntactic Low \n",
            "Majority Complexity: Low\n",
            "\n",
            "prompt : Draft an email to a colleague requesting a project update. \n",
            "length : Mid | NER : Low  | Syntactic Mid \n",
            "Majority Complexity: Mid\n",
            "\n",
            "prompt : What are the challenges of climate change? \n",
            "length : Mid | NER : Low  | Syntactic Low \n",
            "Majority Complexity: Low\n",
            "\n",
            "prompt : Describe the significance of blockchain technology in finance. \n",
            "length : Mid | NER : Low  | Syntactic Low \n",
            "Majority Complexity: Low\n",
            "\n"
          ]
        }
      ]
    },
    {
      "cell_type": "code",
      "source": [],
      "metadata": {
        "id": "-r61CgDJRCbl"
      },
      "execution_count": null,
      "outputs": []
    }
  ]
}